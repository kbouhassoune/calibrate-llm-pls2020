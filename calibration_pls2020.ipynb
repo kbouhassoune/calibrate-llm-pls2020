{
 "cells": [
  {
   "cell_type": "markdown",
   "id": "6a3677eb",
   "metadata": {},
   "source": [
    "# Calibration of LLM-Based Survey Simulation on PLS 2020 AE Data\n",
    "This notebook walks through Huang et al. (2025) “Uncertainty Quantification for LLM-Based Survey Simulations” on binary outcomes, using the FY2020 Public Library Survey AE file. We focus on columns **VISITS**, **TOTCIR**, and **TOTPRO**."
   ]
  },
  {
   "cell_type": "markdown",
   "id": "2447c9cf",
   "metadata": {},
   "source": [
    "## 1. Setup\n",
    "Import necessary libraries and define parameters."
   ]
  },
  {
   "cell_type": "code",
   "execution_count": null,
   "id": "bfd91c36",
   "metadata": {},
   "outputs": [],
   "source": [
    "import numpy as np\n",
    "import pandas as pd\n",
    "import matplotlib.pyplot as plt\n",
    "from scipy.stats import norm\n",
    "\n",
    "# Parameters\n",
    "DATA_PATH = 'Data/PLS2020/PLS_FY20_AE_pud20i.csv'\n",
    "vars_of_interest = ['VISITS', 'TOTCIR', 'TOTPRO']\n",
    "m = len(vars_of_interest)   # number of variables\n",
    "K = 100                     # max synthetic sample size\n",
    "alpha = 0.05                # target miscoverage rate\n",
    "c = np.sqrt(2)              # dilation factor\n",
    "bias = 0.1                  # fixed LLM bias for simulation"
   ]
  },
  {
   "cell_type": "markdown",
   "id": "3c030b3d",
   "metadata": {},
   "source": [
    "## 2. Load & Inspect Data\n",
    "Read the AE CSV and inspect the first rows."
   ]
  },
  {
   "cell_type": "code",
   "execution_count": 2,
   "id": "2e30ed6e",
   "metadata": {},
   "outputs": [
    {
     "data": {
      "text/html": [
       "<div>\n",
       "<style scoped>\n",
       "    .dataframe tbody tr th:only-of-type {\n",
       "        vertical-align: middle;\n",
       "    }\n",
       "\n",
       "    .dataframe tbody tr th {\n",
       "        vertical-align: top;\n",
       "    }\n",
       "\n",
       "    .dataframe thead th {\n",
       "        text-align: right;\n",
       "    }\n",
       "</style>\n",
       "<table border=\"1\" class=\"dataframe\">\n",
       "  <thead>\n",
       "    <tr style=\"text-align: right;\">\n",
       "      <th></th>\n",
       "      <th>STABR</th>\n",
       "      <th>FSCSKEY</th>\n",
       "      <th>LIBID</th>\n",
       "      <th>LIBNAME</th>\n",
       "      <th>ADDRESS</th>\n",
       "      <th>CITY</th>\n",
       "      <th>ZIP</th>\n",
       "      <th>ZIP4</th>\n",
       "      <th>ADDRES_M</th>\n",
       "      <th>CITY_M</th>\n",
       "      <th>...</th>\n",
       "      <th>C19ECRD1</th>\n",
       "      <th>C19ECRD2</th>\n",
       "      <th>C19REFER</th>\n",
       "      <th>C19OUTSD</th>\n",
       "      <th>C19LIVEP</th>\n",
       "      <th>C19RECDP</th>\n",
       "      <th>C19XWIF1</th>\n",
       "      <th>C19XWIF2</th>\n",
       "      <th>C19XWIF3</th>\n",
       "      <th>C19STOTH</th>\n",
       "    </tr>\n",
       "  </thead>\n",
       "  <tbody>\n",
       "    <tr>\n",
       "      <th>0</th>\n",
       "      <td>AK</td>\n",
       "      <td>AK0001</td>\n",
       "      <td>AK0001-002</td>\n",
       "      <td>ANCHOR POINT PUBLIC LIBRARY</td>\n",
       "      <td>34020 NORTH FORK ROAD</td>\n",
       "      <td>ANCHOR POINT</td>\n",
       "      <td>99556</td>\n",
       "      <td>9150</td>\n",
       "      <td>P.O. BOX 129</td>\n",
       "      <td>ANCHOR POINT</td>\n",
       "      <td>...</td>\n",
       "      <td>N</td>\n",
       "      <td>N</td>\n",
       "      <td>Y</td>\n",
       "      <td>Y</td>\n",
       "      <td>N</td>\n",
       "      <td>N</td>\n",
       "      <td>Y</td>\n",
       "      <td>Y</td>\n",
       "      <td>Y</td>\n",
       "      <td>N</td>\n",
       "    </tr>\n",
       "    <tr>\n",
       "      <th>1</th>\n",
       "      <td>AK</td>\n",
       "      <td>AK0002</td>\n",
       "      <td>AK0002-011</td>\n",
       "      <td>ANCHORAGE PUBLIC LIBRARY</td>\n",
       "      <td>3600 DENALI STREET</td>\n",
       "      <td>ANCHORAGE</td>\n",
       "      <td>99503</td>\n",
       "      <td>6055</td>\n",
       "      <td>3600 DENALI STREET</td>\n",
       "      <td>ANCHORAGE</td>\n",
       "      <td>...</td>\n",
       "      <td>Y</td>\n",
       "      <td>Y</td>\n",
       "      <td>Y</td>\n",
       "      <td>N</td>\n",
       "      <td>Y</td>\n",
       "      <td>Y</td>\n",
       "      <td>Y</td>\n",
       "      <td>Y</td>\n",
       "      <td>N</td>\n",
       "      <td>Y</td>\n",
       "    </tr>\n",
       "    <tr>\n",
       "      <th>2</th>\n",
       "      <td>AK</td>\n",
       "      <td>AK0003</td>\n",
       "      <td>AK0003-002</td>\n",
       "      <td>ANDERSON COMMUNITY LIBRARY</td>\n",
       "      <td>101 FIRST STREET</td>\n",
       "      <td>ANDERSON</td>\n",
       "      <td>99744</td>\n",
       "      <td>M</td>\n",
       "      <td>P.O. BOX 3078</td>\n",
       "      <td>ANDERSON</td>\n",
       "      <td>...</td>\n",
       "      <td>N</td>\n",
       "      <td>N</td>\n",
       "      <td>N</td>\n",
       "      <td>N</td>\n",
       "      <td>N</td>\n",
       "      <td>N</td>\n",
       "      <td>Y</td>\n",
       "      <td>N</td>\n",
       "      <td>Y</td>\n",
       "      <td>N</td>\n",
       "    </tr>\n",
       "    <tr>\n",
       "      <th>3</th>\n",
       "      <td>AK</td>\n",
       "      <td>AK0006</td>\n",
       "      <td>AK0006-002</td>\n",
       "      <td>KUSKOKWIM CONSORTIUM LIBRARY</td>\n",
       "      <td>420 CHIEF EDDIE HOFFMAN HIGHWAY</td>\n",
       "      <td>BETHEL</td>\n",
       "      <td>99559</td>\n",
       "      <td>M</td>\n",
       "      <td>P.O. BOX 368</td>\n",
       "      <td>BETHEL</td>\n",
       "      <td>...</td>\n",
       "      <td>N</td>\n",
       "      <td>Y</td>\n",
       "      <td>Y</td>\n",
       "      <td>Y</td>\n",
       "      <td>Y</td>\n",
       "      <td>Y</td>\n",
       "      <td>Y</td>\n",
       "      <td>Y</td>\n",
       "      <td>N</td>\n",
       "      <td>Y</td>\n",
       "    </tr>\n",
       "    <tr>\n",
       "      <th>4</th>\n",
       "      <td>AK</td>\n",
       "      <td>AK0007</td>\n",
       "      <td>AK0007-002</td>\n",
       "      <td>BIG LAKE PUBLIC LIBRARY</td>\n",
       "      <td>3140 SOUTH BIG LAKE ROAD</td>\n",
       "      <td>BIG LAKE</td>\n",
       "      <td>99652</td>\n",
       "      <td>9663</td>\n",
       "      <td>P.O. BOX 520829</td>\n",
       "      <td>BIG LAKE</td>\n",
       "      <td>...</td>\n",
       "      <td>N</td>\n",
       "      <td>N</td>\n",
       "      <td>Y</td>\n",
       "      <td>Y</td>\n",
       "      <td>Y</td>\n",
       "      <td>Y</td>\n",
       "      <td>Y</td>\n",
       "      <td>Y</td>\n",
       "      <td>Y</td>\n",
       "      <td>Y</td>\n",
       "    </tr>\n",
       "  </tbody>\n",
       "</table>\n",
       "<p>5 rows × 179 columns</p>\n",
       "</div>"
      ],
      "text/plain": [
       "  STABR FSCSKEY       LIBID                       LIBNAME  \\\n",
       "0    AK  AK0001  AK0001-002   ANCHOR POINT PUBLIC LIBRARY   \n",
       "1    AK  AK0002  AK0002-011      ANCHORAGE PUBLIC LIBRARY   \n",
       "2    AK  AK0003  AK0003-002    ANDERSON COMMUNITY LIBRARY   \n",
       "3    AK  AK0006  AK0006-002  KUSKOKWIM CONSORTIUM LIBRARY   \n",
       "4    AK  AK0007  AK0007-002       BIG LAKE PUBLIC LIBRARY   \n",
       "\n",
       "                           ADDRESS          CITY    ZIP  ZIP4  \\\n",
       "0            34020 NORTH FORK ROAD  ANCHOR POINT  99556  9150   \n",
       "1               3600 DENALI STREET     ANCHORAGE  99503  6055   \n",
       "2                 101 FIRST STREET      ANDERSON  99744     M   \n",
       "3  420 CHIEF EDDIE HOFFMAN HIGHWAY        BETHEL  99559     M   \n",
       "4         3140 SOUTH BIG LAKE ROAD      BIG LAKE  99652  9663   \n",
       "\n",
       "             ADDRES_M        CITY_M  ...  C19ECRD1 C19ECRD2 C19REFER  \\\n",
       "0        P.O. BOX 129  ANCHOR POINT  ...         N        N        Y   \n",
       "1  3600 DENALI STREET     ANCHORAGE  ...         Y        Y        Y   \n",
       "2       P.O. BOX 3078      ANDERSON  ...         N        N        N   \n",
       "3        P.O. BOX 368        BETHEL  ...         N        Y        Y   \n",
       "4     P.O. BOX 520829      BIG LAKE  ...         N        N        Y   \n",
       "\n",
       "   C19OUTSD C19LIVEP C19RECDP C19XWIF1 C19XWIF2 C19XWIF3 C19STOTH  \n",
       "0         Y        N        N        Y        Y        Y        N  \n",
       "1         N        Y        Y        Y        Y        N        Y  \n",
       "2         N        N        N        Y        N        Y        N  \n",
       "3         Y        Y        Y        Y        Y        N        Y  \n",
       "4         Y        Y        Y        Y        Y        Y        Y  \n",
       "\n",
       "[5 rows x 179 columns]"
      ]
     },
     "execution_count": 2,
     "metadata": {},
     "output_type": "execute_result"
    }
   ],
   "source": [
    "df = pd.read_csv(DATA_PATH, encoding='latin1')\n",
    "df.head()"
   ]
  },
  {
   "cell_type": "markdown",
   "id": "4960c392",
   "metadata": {},
   "source": [
    "## 3. Binarize Real Outcomes\n",
    "Threshold each series at its median."
   ]
  },
  {
   "cell_type": "code",
   "execution_count": 3,
   "id": "510c10c6",
   "metadata": {},
   "outputs": [
    {
     "data": {
      "text/plain": [
       "array([0, 1, 0, 1, 1, 0, 0, 0, 0, 0])"
      ]
     },
     "execution_count": 3,
     "metadata": {},
     "output_type": "execute_result"
    }
   ],
   "source": [
    "real_data = []\n",
    "for col in vars_of_interest:\n",
    "    series = df[col].dropna()\n",
    "    med = series.median()\n",
    "    binary = (series > med).astype(int).to_numpy()\n",
    "    real_data.append(binary)\n",
    "# Preview first 10\n",
    "real_data[0][:10]"
   ]
  },
  {
   "cell_type": "markdown",
   "id": "edf05959",
   "metadata": {},
   "source": [
    "## 4. Calibration Functions\n",
    "Define the dilated CLT interval and selection rule."
   ]
  },
  {
   "cell_type": "code",
   "execution_count": 4,
   "id": "27f668aa",
   "metadata": {},
   "outputs": [],
   "source": [
    "def dilated_clt_interval(samples, alpha, c):\n",
    "    k = len(samples)\n",
    "    if k == 0:\n",
    "        return 0.0, 1.0\n",
    "    ybar = np.mean(samples)\n",
    "    s = np.sqrt(ybar * (1 - ybar))\n",
    "    z = norm.ppf(1 - alpha/2)\n",
    "    half = c * s / np.sqrt(k) * z\n",
    "    return max(0.0, ybar - half), min(1.0, ybar + half)\n",
    "\n",
    "def calibrate_k_star(real_data, llm_data, alpha, c):\n",
    "    G = np.zeros(K + 1)\n",
    "    for k in range(K + 1):\n",
    "        mis = 0\n",
    "        for rd, syn in zip(real_data, llm_data):\n",
    "            lo, hi = dilated_clt_interval(syn[:k], alpha, c)\n",
    "            if not (lo <= rd.mean() <= hi):\n",
    "                mis += 1\n",
    "        G[k] = mis / len(real_data)\n",
    "    valid = [i for i in range(K + 1) if np.all(G[:i + 1] <= alpha/2)]\n",
    "    return (max(valid) if valid else 0), G"
   ]
  },
  {
   "cell_type": "markdown",
   "id": "2e7a97e2",
   "metadata": {},
   "source": [
    "## 5. Simulate LLM Responses\n",
    "Add bias and sample Bernoulli."
   ]
  },
  {
   "cell_type": "code",
   "execution_count": 5,
   "id": "a49eedc0",
   "metadata": {},
   "outputs": [],
   "source": [
    "llm_data = []\n",
    "for arr in real_data:\n",
    "    p_true = arr.mean()\n",
    "    p_llm = float(np.clip(p_true + bias, 0, 1))\n",
    "    llm_data.append(np.random.binomial(1, p_llm, size=K))"
   ]
  },
  {
   "cell_type": "markdown",
   "id": "2773ae40",
   "metadata": {},
   "source": [
    "## 6. Run Calibration & Plot\n",
    "Compute k* and plot G(k)."
   ]
  },
  {
   "cell_type": "code",
   "execution_count": 6,
   "id": "ddfeb1a8",
   "metadata": {},
   "outputs": [
    {
     "name": "stdout",
     "output_type": "stream",
     "text": [
      "Calibrated synthetic sample size k* = 0\n"
     ]
    },
    {
     "data": {
      "image/png": "[encoded data removed]",
      "text/plain": [
       "<Figure size 800x400 with 1 Axes>"
      ]
     },
     "metadata": {},
     "output_type": "display_data"
    }
   ],
   "source": [
    "k_star, G = calibrate_k_star(real_data, llm_data, alpha, c)\n",
    "print(f'Calibrated synthetic sample size k* = {k_star}')\n",
    "plt.figure(figsize=(8, 4))\n",
    "plt.plot(G, '-o', label='G(k) miscoverage')\n",
    "plt.axhline(alpha/2, color='red', linestyle='--', label=f'α/2 = {alpha/2}')\n",
    "plt.axvline(k_star, color='green', linestyle='--', label=f'k* = {k_star}')\n",
    "plt.xlabel('k (synthetic sample size)')\n",
    "plt.ylabel('Miscoverage rate G(k)')\n",
    "plt.title('Calibration Curve on PLS 2020 AE')\n",
    "plt.legend()\n",
    "plt.tight_layout()\n",
    "plt.show()"
   ]
  },
  {
   "cell_type": "markdown",
   "id": "c5718695",
   "metadata": {},
   "source": [
    "### Interpretation\n",
    "- **G(k)** is the fraction of our variables whose real mean falls outside the LLM-based interval at size k.\n",
    "- We choose the largest k so that for all i ≤ k, G(i) ≤ α/2.\n",
    "- A **k* = 0** means even one synthetic sample would exceed the miscoverage threshold, showing large bias."
   ]
  }
 ],
 "metadata": {
  "kernelspec": {
   "display_name": "Python 3 (ipykernel)",
   "language": "python",
   "name": "python3"
  },
  "language_info": {
   "codemirror_mode": {
    "name": "ipython",
    "version": 3
   },
   "file_extension": ".py",
   "mimetype": "text/x-python",
   "name": "python",
   "nbconvert_exporter": "python",
   "pygments_lexer": "ipython3",
   "version": "3.12.6"
  }
 },
 "nbformat": 4,
 "nbformat_minor": 5
}
